{
 "cells": [
  {
   "cell_type": "code",
   "execution_count": 89,
   "metadata": {},
   "outputs": [],
   "source": [
    "import sys\n",
    "sys.path.insert(0,'..')\n",
    "\n",
    "import numpy as np\n",
    "import pandas as pd\n",
    "import mxnet as mx\n",
    "from mxnet import nd\n",
    "from mxnet import autograd\n",
    "from mxnet import init\n",
    "from mxnet import gluon\n",
    "from mxnet.gluon import nn\n",
    "from mxnet.gluon import data as gluon_data\n",
    "from mxnet.gluon import loss as gluon_loss\n",
    "from PIL import Image\n",
    "from tqdm import tqdm\n",
    "from IPython.display import display \n",
    "from matplotlib.pyplot import imshow"
   ]
  },
  {
   "cell_type": "code",
   "execution_count": 2,
   "metadata": {},
   "outputs": [],
   "source": [
    "ctx = mx.cpu()\n",
    "data = pd.read_csv(\"Data/data.csv\")\n",
    "train_data = data.sample(frac=0.98, random_state=200)\n",
    "test_data = data.drop(train_data.index)\n",
    "train_labels = nd.array(train_data.iloc[:,0])\n",
    "train_features = nd.array(train_data.iloc[:,1:785]) \n",
    "test_labels = nd.array(test_data.iloc[:,0])\n",
    "test_features = nd.array(test_data.iloc[:,1:785])"
   ]
  },
  {
   "cell_type": "code",
   "execution_count": 3,
   "metadata": {},
   "outputs": [],
   "source": [
    "batch_size = 256\n",
    "dataset = gluon.data.ArrayDataset(train_features,train_labels)\n",
    "train_iter = gluon.data.DataLoader(dataset,batch_size,shuffle=True)"
   ]
  },
  {
   "cell_type": "code",
   "execution_count": 4,
   "metadata": {},
   "outputs": [],
   "source": [
    "net = nn.Sequential()\n",
    "net.add(nn.Dense(784,activation='relu'))\n",
    "net.add(nn.Dense(392,activation='relu'))\n",
    "net.add(nn.Dense(196,activation='relu'))\n",
    "net.add(nn.Dense(98,activation='relu'))\n",
    "net.add(nn.Dense(10))\n",
    "net.initialize(init.Normal(sigma=0.01))"
   ]
  },
  {
   "cell_type": "code",
   "execution_count": 5,
   "metadata": {},
   "outputs": [],
   "source": [
    "loss_function = gluon.loss.SoftmaxCrossEntropyLoss()\n",
    "trainer = gluon.Trainer(net.collect_params(),'sgd',{'learning_rate' : 0.1} )"
   ]
  },
  {
   "cell_type": "code",
   "execution_count": 6,
   "metadata": {},
   "outputs": [],
   "source": [
    "num_epochs = 5\n",
    "for epoch in range(1,num_epochs+1):\n",
    "    for data,label in train_iter:\n",
    "        with autograd.record():\n",
    "            y_hat = net(data)\n",
    "            loss_value = loss_function(y_hat,label).sum()\n",
    "\n",
    "        loss_value.backward()\n",
    "        trainer.step(batch_size)"
   ]
  },
  {
   "cell_type": "code",
   "execution_count": 7,
   "metadata": {},
   "outputs": [
    {
     "name": "stdout",
     "output_type": "stream",
     "text": [
      "Net accuracy:  97.61904761904762 %\n"
     ]
    }
   ],
   "source": [
    "accuracy = 0\n",
    "results = net(test_features)\n",
    "for i in range(test_labels.shape[0]):       \n",
    "        if test_labels[i].asnumpy()[0] == results[i].asnumpy().argmax():\n",
    "            accuracy += 1\n",
    "            \n",
    "print(\"Net accuracy: \",100*(accuracy/test_labels.shape[0]),\"%\")"
   ]
  },
  {
   "cell_type": "code",
   "execution_count": 100,
   "metadata": {},
   "outputs": [
    {
     "name": "stdout",
     "output_type": "stream",
     "text": [
      "2\n"
     ]
    },
    {
     "data": {
      "text/plain": [
       "<matplotlib.image.AxesImage at 0x27ba2caaf98>"
      ]
     },
     "execution_count": 100,
     "metadata": {},
     "output_type": "execute_result"
    },
    {
     "data": {
      "image/png": "[encoded data removed]",
      "text/plain": [
       "<matplotlib.figure.Figure at 0x27ba2eb4358>"
      ]
     },
     "metadata": {
      "needs_background": "light"
     },
     "output_type": "display_data"
    }
   ],
   "source": [
    "index = 2\n",
    "\n",
    "print(results[index].asnumpy().argmax())\n",
    "img_data = test_features[index].reshape(28,28)\n",
    "img = Image.fromarray(img_data.asnumpy())\n",
    "imshow(img)"
   ]
  },
  {
   "cell_type": "code",
   "execution_count": 31,
   "metadata": {},
   "outputs": [
    {
     "data": {
      "text/plain": [
       "112"
      ]
     },
     "execution_count": 31,
     "metadata": {},
     "output_type": "execute_result"
    }
   ],
   "source": []
  },
  {
   "cell_type": "code",
   "execution_count": null,
   "metadata": {},
   "outputs": [],
   "source": []
  }
 ],
 "metadata": {
  "kernelspec": {
   "display_name": "Python 3",
   "language": "python",
   "name": "python3"
  },
  "language_info": {
   "codemirror_mode": {
    "name": "ipython",
    "version": 3
   },
   "file_extension": ".py",
   "mimetype": "text/x-python",
   "name": "python",
   "nbconvert_exporter": "python",
   "pygments_lexer": "ipython3",
   "version": "3.6.4"
  }
 },
 "nbformat": 4,
 "nbformat_minor": 2
}
