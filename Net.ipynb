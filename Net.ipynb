{
 "cells": [
  {
   "cell_type": "markdown",
   "metadata": {},
   "source": [
    "Import libraries"
   ]
  },
  {
   "cell_type": "code",
   "execution_count": 2,
   "metadata": {},
   "outputs": [],
   "source": [
    "import sys\n",
    "sys.path.insert(0,'..')\n",
    "\n",
    "import numpy as np\n",
    "import pandas as pd\n",
    "import mxnet as mx\n",
    "from mxnet import nd\n",
    "from mxnet import autograd\n",
    "from mxnet import init\n",
    "from mxnet import gluon\n",
    "from mxnet.gluon import nn\n",
    "from mxnet.gluon import data as gluon_data\n",
    "from mxnet.gluon import loss as gluon_loss"
   ]
  },
  {
   "cell_type": "code",
   "execution_count": 3,
   "metadata": {},
   "outputs": [],
   "source": [
    "ctx = mx.cpu()"
   ]
  },
  {
   "cell_type": "code",
   "execution_count": 4,
   "metadata": {},
   "outputs": [],
   "source": [
    "train_data = pd.read_csv(\"Data/train.csv\")\n",
    "test_data = pd.read_csv(\"Data/test.csv\")"
   ]
  },
  {
   "cell_type": "code",
   "execution_count": 77,
   "metadata": {},
   "outputs": [],
   "source": [
    "train_labels = nd.array(train_data.iloc[:,0])\n",
    "train_features = nd.array(train_data.iloc[:,1:785])"
   ]
  },
  {
   "cell_type": "code",
   "execution_count": 106,
   "metadata": {},
   "outputs": [],
   "source": [
    "dataset = gluon.data.ArrayDataset(train_features,train_labels)\n",
    "train_iter = gluon.data.DataLoader(dataset,batch_size,shuffle=True)"
   ]
  },
  {
   "cell_type": "code",
   "execution_count": 133,
   "metadata": {},
   "outputs": [],
   "source": [
    "net = nn.Sequential()\n",
    "net.add(nn.Dense(784,activation='relu'))\n",
    "net.add(nn.Dense(300,activation='relu'))\n",
    "net.add(nn.Dense(200,activation='relu'))\n",
    "net.add(nn.Dense(100,activation='relu'))\n",
    "net.add(nn.Dense(10))\n",
    "net.initialize(init.Normal(sigma=0.01))"
   ]
  },
  {
   "cell_type": "code",
   "execution_count": 134,
   "metadata": {},
   "outputs": [],
   "source": [
    "loss_function = gluon.loss.SoftmaxCrossEntropyLoss()\n",
    "trainer = gluon.Trainer(net.collect_params(),'sgd',{'learning_rate' : 0.1} )"
   ]
  },
  {
   "cell_type": "code",
   "execution_count": 135,
   "metadata": {},
   "outputs": [],
   "source": [
    "num_epochs = 10"
   ]
  },
  {
   "cell_type": "code",
   "execution_count": 136,
   "metadata": {},
   "outputs": [
    {
     "name": "stdout",
     "output_type": "stream",
     "text": [
      "epoch:  1 loss:  [ 5.3581109]\n",
      "epoch:  2 loss:  [ 0.8472088]\n",
      "epoch:  3 loss:  [ 2.01559448]\n",
      "epoch:  4 loss:  [ 0.19979014]\n",
      "epoch:  5 loss:  [ 0.46389708]\n",
      "epoch:  6 loss:  [ 0.44366637]\n",
      "epoch:  7 loss:  [ 0.54955751]\n",
      "epoch:  8 loss:  [ 0.49154451]\n",
      "epoch:  9 loss:  [ 0.07531575]\n",
      "epoch:  10 loss:  [ 0.00227232]\n"
     ]
    }
   ],
   "source": [
    "train_loss, test_loss = [],[]\n",
    "\n",
    "for epoch in range(1,num_epochs+1):\n",
    "    for data,label in train_iter:\n",
    "        with autograd.record():\n",
    "            y_hat = net(data)\n",
    "            loss_value = loss_function(y_hat,label).sum()\n",
    "            \n",
    "        loss_value.backward()\n",
    "        trainer.step(batch_size)       \n",
    "        \n",
    "    print(\"epoch: \",epoch,\"loss: \",loss_value.mean().asnumpy())"
   ]
  },
  {
   "cell_type": "code",
   "execution_count": 147,
   "metadata": {},
   "outputs": [
    {
     "name": "stdout",
     "output_type": "stream",
     "text": [
      "\n",
      "[ 8.]\n",
      "<NDArray 1 @cpu(0)>\n",
      "<bound method NDArray.argmax of \n",
      "[ -6.36310673  -2.20514202   0.49976602   3.86541629  -6.99960661\n",
      "  -1.0177542   -7.57814455  -5.83551884  23.210392     1.39221287]\n",
      "<NDArray 10 @cpu(0)>>\n"
     ]
    }
   ],
   "source": [
    "print(train_labels[1005])\n",
    "max = net(train_features)[1005]\n",
    "print(max.argmax)"
   ]
  },
  {
   "cell_type": "code",
   "execution_count": 20,
   "metadata": {},
   "outputs": [
    {
     "data": {
      "text/plain": [
       "(840, 785)"
      ]
     },
     "execution_count": 20,
     "metadata": {},
     "output_type": "execute_result"
    }
   ],
   "source": [
    "train_data.shape\n",
    "data1 = train_data.sample(frac=0.98,random_state=200)\n",
    "data2 = train_data.drop(data1.index)\n",
    "data2.shape"
   ]
  },
  {
   "cell_type": "code",
   "execution_count": null,
   "metadata": {},
   "outputs": [],
   "source": []
  }
 ],
 "metadata": {
  "kernelspec": {
   "display_name": "Python 3",
   "language": "python",
   "name": "python3"
  },
  "language_info": {
   "codemirror_mode": {
    "name": "ipython",
    "version": 3
   },
   "file_extension": ".py",
   "mimetype": "text/x-python",
   "name": "python",
   "nbconvert_exporter": "python",
   "pygments_lexer": "ipython3",
   "version": "3.6.4"
  }
 },
 "nbformat": 4,
 "nbformat_minor": 2
}
